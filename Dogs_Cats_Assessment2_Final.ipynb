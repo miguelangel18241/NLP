{
  "nbformat": 4,
  "nbformat_minor": 0,
  "metadata": {
    "colab": {
      "provenance": [],
      "authorship_tag": "ABX9TyO0RyF0JyFRypxrY0opnSGD",
      "include_colab_link": true
    },
    "kernelspec": {
      "name": "python3",
      "display_name": "Python 3"
    },
    "language_info": {
      "name": "python"
    }
  },
  "cells": [
    {
      "cell_type": "markdown",
      "metadata": {
        "id": "view-in-github",
        "colab_type": "text"
      },
      "source": [
        "<a href=\"https://colab.research.google.com/github/miguelangel18241/NLP/blob/main/Dogs_Cats_Assessment2_Final.ipynb\" target=\"_parent\"><img src=\"https://colab.research.google.com/assets/colab-badge.svg\" alt=\"Open In Colab\"/></a>"
      ]
    },
    {
      "cell_type": "markdown",
      "source": [
        "PRESENTED BY MIGUEL ANGEL ZORRILLA PUERTAS\n",
        "STUDENT ID A00061777\n",
        "\n",
        "BASED ON:Luciano, S. (n.d.). Convolutional neural networks"
      ],
      "metadata": {
        "id": "nDsHxPi05IpN"
      }
    },
    {
      "cell_type": "markdown",
      "source": [
        "You must include instructions on how to run your code at the top of your main source code file inside a comment block."
      ],
      "metadata": {
        "id": "mWC50aL_in7_"
      }
    },
    {
      "cell_type": "code",
      "source": [
        "# All my code has been done in GoogleColab\n",
        "# You just have to upload the same Zipped File provided in the assessment.\n",
        "\n",
        "# https://www.kaggle.com/c/dogs-vs-cats <- DATA\n",
        "\n",
        "# I have created 2 Datasets:\n",
        "\n",
        "    # One with the training Zipped file called: uploaded_train which contains all the pictures of cats and dogs (Please upload here only the training data)\n",
        "    # One with the testing Zipped file called: uploaded_test which contains all the pictures of cats and dogs (Please upload here only the test data)\n",
        "      # the testing data expects the files to have either cat. or dog.\n",
        "        #Example: cat.1.jpg / dog.1.jpg\n",
        "\n",
        "    # Cats and dogs will be handled as cat. and dog."
      ],
      "metadata": {
        "id": "37HH4Xpfi6Yb"
      },
      "execution_count": null,
      "outputs": []
    },
    {
      "cell_type": "code",
      "source": [],
      "metadata": {
        "id": "bb_gqhUq5YFN"
      },
      "execution_count": null,
      "outputs": []
    },
    {
      "cell_type": "code",
      "execution_count": null,
      "metadata": {
        "id": "riLIKdf5Z61X"
      },
      "outputs": [],
      "source": [
        "import tensorflow as tf\n",
        "import seaborn as sns\n",
        "import numpy as np\n",
        "import matplotlib.pyplot as plt\n",
        "from PIL import Image\n",
        "import glob\n",
        "import os\n",
        "import zipfile\n",
        "from collections import defaultdict\n",
        "from tensorflow import keras\n",
        "from tensorflow.keras import layers\n",
        "from tensorflow.keras.preprocessing.image import ImageDataGenerator\n",
        "from tensorflow.keras.callbacks import EarlyStopping\n",
        "from sklearn.metrics import confusion_matrix, classification_report\n",
        "from google.colab import files"
      ]
    },
    {
      "cell_type": "code",
      "source": [
        "from google.colab import files\n",
        "import zipfile\n",
        "import os\n",
        "import glob\n",
        "from PIL import Image\n",
        "import numpy as np\n",
        "\n",
        "# Define the image size\n",
        "IMG_SIZE = (94, 125)\n",
        "\n",
        "def pixels_from_path(file_path):\n",
        "    im = Image.open(file_path)\n",
        "    im = im.resize(IMG_SIZE)\n",
        "    np_im = np.array(im)\n",
        "    return np_im\n"
      ],
      "metadata": {
        "id": "K4OxWGwlc5gL"
      },
      "execution_count": null,
      "outputs": []
    },
    {
      "cell_type": "code",
      "source": [
        "\n",
        "# Upload the training and test zip files\n",
        "uploaded_train = files.upload()\n",
        "uploaded_test = files.upload()\n"
      ],
      "metadata": {
        "colab": {
          "base_uri": "https://localhost:8080/",
          "height": 128
        },
        "id": "DbzLYIR0o-Zt",
        "outputId": "e89523d2-c58a-4696-c83c-635ff0596656"
      },
      "execution_count": null,
      "outputs": [
        {
          "output_type": "display_data",
          "data": {
            "text/plain": [
              "<IPython.core.display.HTML object>"
            ],
            "text/html": [
              "\n",
              "     <input type=\"file\" id=\"files-85c475b0-0e6c-419f-9ecf-e1ebaa578f83\" name=\"files[]\" multiple disabled\n",
              "        style=\"border:none\" />\n",
              "     <output id=\"result-85c475b0-0e6c-419f-9ecf-e1ebaa578f83\">\n",
              "      Upload widget is only available when the cell has been executed in the\n",
              "      current browser session. Please rerun this cell to enable.\n",
              "      </output>\n",
              "      <script>// Copyright 2017 Google LLC\n",
              "//\n",
              "// Licensed under the Apache License, Version 2.0 (the \"License\");\n",
              "// you may not use this file except in compliance with the License.\n",
              "// You may obtain a copy of the License at\n",
              "//\n",
              "//      http://www.apache.org/licenses/LICENSE-2.0\n",
              "//\n",
              "// Unless required by applicable law or agreed to in writing, software\n",
              "// distributed under the License is distributed on an \"AS IS\" BASIS,\n",
              "// WITHOUT WARRANTIES OR CONDITIONS OF ANY KIND, either express or implied.\n",
              "// See the License for the specific language governing permissions and\n",
              "// limitations under the License.\n",
              "\n",
              "/**\n",
              " * @fileoverview Helpers for google.colab Python module.\n",
              " */\n",
              "(function(scope) {\n",
              "function span(text, styleAttributes = {}) {\n",
              "  const element = document.createElement('span');\n",
              "  element.textContent = text;\n",
              "  for (const key of Object.keys(styleAttributes)) {\n",
              "    element.style[key] = styleAttributes[key];\n",
              "  }\n",
              "  return element;\n",
              "}\n",
              "\n",
              "// Max number of bytes which will be uploaded at a time.\n",
              "const MAX_PAYLOAD_SIZE = 100 * 1024;\n",
              "\n",
              "function _uploadFiles(inputId, outputId) {\n",
              "  const steps = uploadFilesStep(inputId, outputId);\n",
              "  const outputElement = document.getElementById(outputId);\n",
              "  // Cache steps on the outputElement to make it available for the next call\n",
              "  // to uploadFilesContinue from Python.\n",
              "  outputElement.steps = steps;\n",
              "\n",
              "  return _uploadFilesContinue(outputId);\n",
              "}\n",
              "\n",
              "// This is roughly an async generator (not supported in the browser yet),\n",
              "// where there are multiple asynchronous steps and the Python side is going\n",
              "// to poll for completion of each step.\n",
              "// This uses a Promise to block the python side on completion of each step,\n",
              "// then passes the result of the previous step as the input to the next step.\n",
              "function _uploadFilesContinue(outputId) {\n",
              "  const outputElement = document.getElementById(outputId);\n",
              "  const steps = outputElement.steps;\n",
              "\n",
              "  const next = steps.next(outputElement.lastPromiseValue);\n",
              "  return Promise.resolve(next.value.promise).then((value) => {\n",
              "    // Cache the last promise value to make it available to the next\n",
              "    // step of the generator.\n",
              "    outputElement.lastPromiseValue = value;\n",
              "    return next.value.response;\n",
              "  });\n",
              "}\n",
              "\n",
              "/**\n",
              " * Generator function which is called between each async step of the upload\n",
              " * process.\n",
              " * @param {string} inputId Element ID of the input file picker element.\n",
              " * @param {string} outputId Element ID of the output display.\n",
              " * @return {!Iterable<!Object>} Iterable of next steps.\n",
              " */\n",
              "function* uploadFilesStep(inputId, outputId) {\n",
              "  const inputElement = document.getElementById(inputId);\n",
              "  inputElement.disabled = false;\n",
              "\n",
              "  const outputElement = document.getElementById(outputId);\n",
              "  outputElement.innerHTML = '';\n",
              "\n",
              "  const pickedPromise = new Promise((resolve) => {\n",
              "    inputElement.addEventListener('change', (e) => {\n",
              "      resolve(e.target.files);\n",
              "    });\n",
              "  });\n",
              "\n",
              "  const cancel = document.createElement('button');\n",
              "  inputElement.parentElement.appendChild(cancel);\n",
              "  cancel.textContent = 'Cancel upload';\n",
              "  const cancelPromise = new Promise((resolve) => {\n",
              "    cancel.onclick = () => {\n",
              "      resolve(null);\n",
              "    };\n",
              "  });\n",
              "\n",
              "  // Wait for the user to pick the files.\n",
              "  const files = yield {\n",
              "    promise: Promise.race([pickedPromise, cancelPromise]),\n",
              "    response: {\n",
              "      action: 'starting',\n",
              "    }\n",
              "  };\n",
              "\n",
              "  cancel.remove();\n",
              "\n",
              "  // Disable the input element since further picks are not allowed.\n",
              "  inputElement.disabled = true;\n",
              "\n",
              "  if (!files) {\n",
              "    return {\n",
              "      response: {\n",
              "        action: 'complete',\n",
              "      }\n",
              "    };\n",
              "  }\n",
              "\n",
              "  for (const file of files) {\n",
              "    const li = document.createElement('li');\n",
              "    li.append(span(file.name, {fontWeight: 'bold'}));\n",
              "    li.append(span(\n",
              "        `(${file.type || 'n/a'}) - ${file.size} bytes, ` +\n",
              "        `last modified: ${\n",
              "            file.lastModifiedDate ? file.lastModifiedDate.toLocaleDateString() :\n",
              "                                    'n/a'} - `));\n",
              "    const percent = span('0% done');\n",
              "    li.appendChild(percent);\n",
              "\n",
              "    outputElement.appendChild(li);\n",
              "\n",
              "    const fileDataPromise = new Promise((resolve) => {\n",
              "      const reader = new FileReader();\n",
              "      reader.onload = (e) => {\n",
              "        resolve(e.target.result);\n",
              "      };\n",
              "      reader.readAsArrayBuffer(file);\n",
              "    });\n",
              "    // Wait for the data to be ready.\n",
              "    let fileData = yield {\n",
              "      promise: fileDataPromise,\n",
              "      response: {\n",
              "        action: 'continue',\n",
              "      }\n",
              "    };\n",
              "\n",
              "    // Use a chunked sending to avoid message size limits. See b/62115660.\n",
              "    let position = 0;\n",
              "    do {\n",
              "      const length = Math.min(fileData.byteLength - position, MAX_PAYLOAD_SIZE);\n",
              "      const chunk = new Uint8Array(fileData, position, length);\n",
              "      position += length;\n",
              "\n",
              "      const base64 = btoa(String.fromCharCode.apply(null, chunk));\n",
              "      yield {\n",
              "        response: {\n",
              "          action: 'append',\n",
              "          file: file.name,\n",
              "          data: base64,\n",
              "        },\n",
              "      };\n",
              "\n",
              "      let percentDone = fileData.byteLength === 0 ?\n",
              "          100 :\n",
              "          Math.round((position / fileData.byteLength) * 100);\n",
              "      percent.textContent = `${percentDone}% done`;\n",
              "\n",
              "    } while (position < fileData.byteLength);\n",
              "  }\n",
              "\n",
              "  // All done.\n",
              "  yield {\n",
              "    response: {\n",
              "      action: 'complete',\n",
              "    }\n",
              "  };\n",
              "}\n",
              "\n",
              "scope.google = scope.google || {};\n",
              "scope.google.colab = scope.google.colab || {};\n",
              "scope.google.colab._files = {\n",
              "  _uploadFiles,\n",
              "  _uploadFilesContinue,\n",
              "};\n",
              "})(self);\n",
              "</script> "
            ]
          },
          "metadata": {}
        },
        {
          "output_type": "stream",
          "name": "stdout",
          "text": [
            "Saving train_Small_dataSet.zip to train_Small_dataSet (4).zip\n"
          ]
        },
        {
          "output_type": "display_data",
          "data": {
            "text/plain": [
              "<IPython.core.display.HTML object>"
            ],
            "text/html": [
              "\n",
              "     <input type=\"file\" id=\"files-8dbcb4e4-a25c-48dc-94a0-c1aec805e02d\" name=\"files[]\" multiple disabled\n",
              "        style=\"border:none\" />\n",
              "     <output id=\"result-8dbcb4e4-a25c-48dc-94a0-c1aec805e02d\">\n",
              "      Upload widget is only available when the cell has been executed in the\n",
              "      current browser session. Please rerun this cell to enable.\n",
              "      </output>\n",
              "      <script>// Copyright 2017 Google LLC\n",
              "//\n",
              "// Licensed under the Apache License, Version 2.0 (the \"License\");\n",
              "// you may not use this file except in compliance with the License.\n",
              "// You may obtain a copy of the License at\n",
              "//\n",
              "//      http://www.apache.org/licenses/LICENSE-2.0\n",
              "//\n",
              "// Unless required by applicable law or agreed to in writing, software\n",
              "// distributed under the License is distributed on an \"AS IS\" BASIS,\n",
              "// WITHOUT WARRANTIES OR CONDITIONS OF ANY KIND, either express or implied.\n",
              "// See the License for the specific language governing permissions and\n",
              "// limitations under the License.\n",
              "\n",
              "/**\n",
              " * @fileoverview Helpers for google.colab Python module.\n",
              " */\n",
              "(function(scope) {\n",
              "function span(text, styleAttributes = {}) {\n",
              "  const element = document.createElement('span');\n",
              "  element.textContent = text;\n",
              "  for (const key of Object.keys(styleAttributes)) {\n",
              "    element.style[key] = styleAttributes[key];\n",
              "  }\n",
              "  return element;\n",
              "}\n",
              "\n",
              "// Max number of bytes which will be uploaded at a time.\n",
              "const MAX_PAYLOAD_SIZE = 100 * 1024;\n",
              "\n",
              "function _uploadFiles(inputId, outputId) {\n",
              "  const steps = uploadFilesStep(inputId, outputId);\n",
              "  const outputElement = document.getElementById(outputId);\n",
              "  // Cache steps on the outputElement to make it available for the next call\n",
              "  // to uploadFilesContinue from Python.\n",
              "  outputElement.steps = steps;\n",
              "\n",
              "  return _uploadFilesContinue(outputId);\n",
              "}\n",
              "\n",
              "// This is roughly an async generator (not supported in the browser yet),\n",
              "// where there are multiple asynchronous steps and the Python side is going\n",
              "// to poll for completion of each step.\n",
              "// This uses a Promise to block the python side on completion of each step,\n",
              "// then passes the result of the previous step as the input to the next step.\n",
              "function _uploadFilesContinue(outputId) {\n",
              "  const outputElement = document.getElementById(outputId);\n",
              "  const steps = outputElement.steps;\n",
              "\n",
              "  const next = steps.next(outputElement.lastPromiseValue);\n",
              "  return Promise.resolve(next.value.promise).then((value) => {\n",
              "    // Cache the last promise value to make it available to the next\n",
              "    // step of the generator.\n",
              "    outputElement.lastPromiseValue = value;\n",
              "    return next.value.response;\n",
              "  });\n",
              "}\n",
              "\n",
              "/**\n",
              " * Generator function which is called between each async step of the upload\n",
              " * process.\n",
              " * @param {string} inputId Element ID of the input file picker element.\n",
              " * @param {string} outputId Element ID of the output display.\n",
              " * @return {!Iterable<!Object>} Iterable of next steps.\n",
              " */\n",
              "function* uploadFilesStep(inputId, outputId) {\n",
              "  const inputElement = document.getElementById(inputId);\n",
              "  inputElement.disabled = false;\n",
              "\n",
              "  const outputElement = document.getElementById(outputId);\n",
              "  outputElement.innerHTML = '';\n",
              "\n",
              "  const pickedPromise = new Promise((resolve) => {\n",
              "    inputElement.addEventListener('change', (e) => {\n",
              "      resolve(e.target.files);\n",
              "    });\n",
              "  });\n",
              "\n",
              "  const cancel = document.createElement('button');\n",
              "  inputElement.parentElement.appendChild(cancel);\n",
              "  cancel.textContent = 'Cancel upload';\n",
              "  const cancelPromise = new Promise((resolve) => {\n",
              "    cancel.onclick = () => {\n",
              "      resolve(null);\n",
              "    };\n",
              "  });\n",
              "\n",
              "  // Wait for the user to pick the files.\n",
              "  const files = yield {\n",
              "    promise: Promise.race([pickedPromise, cancelPromise]),\n",
              "    response: {\n",
              "      action: 'starting',\n",
              "    }\n",
              "  };\n",
              "\n",
              "  cancel.remove();\n",
              "\n",
              "  // Disable the input element since further picks are not allowed.\n",
              "  inputElement.disabled = true;\n",
              "\n",
              "  if (!files) {\n",
              "    return {\n",
              "      response: {\n",
              "        action: 'complete',\n",
              "      }\n",
              "    };\n",
              "  }\n",
              "\n",
              "  for (const file of files) {\n",
              "    const li = document.createElement('li');\n",
              "    li.append(span(file.name, {fontWeight: 'bold'}));\n",
              "    li.append(span(\n",
              "        `(${file.type || 'n/a'}) - ${file.size} bytes, ` +\n",
              "        `last modified: ${\n",
              "            file.lastModifiedDate ? file.lastModifiedDate.toLocaleDateString() :\n",
              "                                    'n/a'} - `));\n",
              "    const percent = span('0% done');\n",
              "    li.appendChild(percent);\n",
              "\n",
              "    outputElement.appendChild(li);\n",
              "\n",
              "    const fileDataPromise = new Promise((resolve) => {\n",
              "      const reader = new FileReader();\n",
              "      reader.onload = (e) => {\n",
              "        resolve(e.target.result);\n",
              "      };\n",
              "      reader.readAsArrayBuffer(file);\n",
              "    });\n",
              "    // Wait for the data to be ready.\n",
              "    let fileData = yield {\n",
              "      promise: fileDataPromise,\n",
              "      response: {\n",
              "        action: 'continue',\n",
              "      }\n",
              "    };\n",
              "\n",
              "    // Use a chunked sending to avoid message size limits. See b/62115660.\n",
              "    let position = 0;\n",
              "    do {\n",
              "      const length = Math.min(fileData.byteLength - position, MAX_PAYLOAD_SIZE);\n",
              "      const chunk = new Uint8Array(fileData, position, length);\n",
              "      position += length;\n",
              "\n",
              "      const base64 = btoa(String.fromCharCode.apply(null, chunk));\n",
              "      yield {\n",
              "        response: {\n",
              "          action: 'append',\n",
              "          file: file.name,\n",
              "          data: base64,\n",
              "        },\n",
              "      };\n",
              "\n",
              "      let percentDone = fileData.byteLength === 0 ?\n",
              "          100 :\n",
              "          Math.round((position / fileData.byteLength) * 100);\n",
              "      percent.textContent = `${percentDone}% done`;\n",
              "\n",
              "    } while (position < fileData.byteLength);\n",
              "  }\n",
              "\n",
              "  // All done.\n",
              "  yield {\n",
              "    response: {\n",
              "      action: 'complete',\n",
              "    }\n",
              "  };\n",
              "}\n",
              "\n",
              "scope.google = scope.google || {};\n",
              "scope.google.colab = scope.google.colab || {};\n",
              "scope.google.colab._files = {\n",
              "  _uploadFiles,\n",
              "  _uploadFilesContinue,\n",
              "};\n",
              "})(self);\n",
              "</script> "
            ]
          },
          "metadata": {}
        },
        {
          "output_type": "stream",
          "name": "stdout",
          "text": [
            "Saving test_Small_dataSet.zip to test_Small_dataSet (4).zip\n"
          ]
        }
      ]
    },
    {
      "cell_type": "code",
      "source": [
        "\n",
        "# Define directories\n",
        "train_dir = '/content/train'\n",
        "test_dir = '/content/test'\n",
        "\n",
        "# Create directories\n",
        "os.makedirs(train_dir, exist_ok=True)\n",
        "os.makedirs(test_dir, exist_ok=True)\n",
        "\n",
        "# Unzip training data\n",
        "train_zip = next(iter(uploaded_train))\n",
        "with zipfile.ZipFile(train_zip, 'r') as zip_ref:\n",
        "    zip_ref.extractall(train_dir)\n",
        "\n",
        "# Unzip testing data\n",
        "test_zip = next(iter(uploaded_test))\n",
        "with zipfile.ZipFile(test_zip, 'r') as zip_ref:\n",
        "    zip_ref.extractall(test_dir)\n",
        "\n",
        "# Check the contents of the directories\n",
        "print(\"Contents of train directory:\", os.listdir(train_dir))\n",
        "print(\"Contents of test directory:\", os.listdir(test_dir))\n",
        "\n",
        "# Define path to the training dataset\n",
        "train_data_dir = os.path.join(train_dir, 'train_Small_dataSet')\n",
        "\n",
        "# List all image files in the training directory\n",
        "all_image_paths = glob.glob(os.path.join(train_data_dir, '*'))\n",
        "SAMPLE_SIZE = 200  # Adjust this based on how many images you want to process\n",
        "\n",
        "# Filter and load training images for cats and dogs\n",
        "cat_image_paths = [path for path in all_image_paths if 'cat.' in os.path.basename(path)]\n",
        "dog_image_paths = [path for path in all_image_paths if 'dog.' in os.path.basename(path)]\n",
        "cat_train_set = np.asarray([pixels_from_path(cat) for cat in cat_image_paths[:SAMPLE_SIZE]])\n",
        "dog_train_set = np.asarray([pixels_from_path(dog) for dog in dog_image_paths[:SAMPLE_SIZE]])\n",
        "\n",
        "# Combine and label data\n",
        "x_train = np.concatenate([cat_train_set, dog_train_set])\n",
        "labels_train = np.array([1] * len(cat_train_set) + [0] * len(dog_train_set)).reshape(-1, 1)\n",
        "\n",
        "# Output data shapes\n",
        "print(\"Training data shape:\", x_train.shape)\n",
        "print(\"Training labels shape:\", labels_train.shape)\n",
        "\n",
        "# Load and label validation images based on prefixes in filenames\n",
        "valid_data_dir = os.path.join(test_dir, 'test_Small_dataSet')\n",
        "\n",
        "# List all image files in the validation directory\n",
        "valid_image_paths = glob.glob(os.path.join(valid_data_dir, '*'))\n",
        "\n",
        "# Load validation images\n",
        "x_valid = np.asarray([pixels_from_path(path) for path in valid_image_paths])\n",
        "\n",
        "# Create labels for validation dataset (using 'cat.' and 'dog.' in filenames)\n",
        "labels_valid = np.array([1 if 'cat.' in path else 0 for path in valid_image_paths]).reshape(-1, 1)\n",
        "\n",
        "# Output validation data shapes\n",
        "print(\"Validation data shape:\", x_valid.shape)\n",
        "print(\"Validation labels shape:\", labels_valid.shape)\n"
      ],
      "metadata": {
        "colab": {
          "base_uri": "https://localhost:8080/"
        },
        "id": "5uF6TniPmJBn",
        "outputId": "d653f888-9090-4487-9a90-51bedf07154d"
      },
      "execution_count": null,
      "outputs": [
        {
          "output_type": "stream",
          "name": "stdout",
          "text": [
            "Contents of train directory: ['train_Small_dataSet', '__MACOSX']\n",
            "Contents of test directory: ['__MACOSX', 'test_Small_dataSet']\n",
            "Training data shape: (142, 125, 94, 3)\n",
            "Training labels shape: (142, 1)\n",
            "Validation data shape: (20, 125, 94, 3)\n",
            "Validation labels shape: (20, 1)\n"
          ]
        }
      ]
    },
    {
      "cell_type": "markdown",
      "source": [
        "[link text](https://)**<h1>Run of the Mill MLP**\n"
      ],
      "metadata": {
        "id": "ZVzN0kfdp3gX"
      }
    },
    {
      "cell_type": "code",
      "source": [
        "from tensorflow import keras\n",
        "from tensorflow.keras import layers\n",
        "\n",
        "# Define the MLP model\n",
        "inputs = keras.Input(shape=(IMG_SIZE[1], IMG_SIZE[0], 3), name='ani_image')\n",
        "x = layers.Flatten(name='flattened_img')(inputs)\n",
        "x = layers.Dense(512, activation='relu', name='first_layer')(x)\n",
        "outputs = layers.Dense(1, activation='sigmoid', name='class')(x)\n",
        "\n",
        "model_mlp = keras.Model(inputs=inputs, outputs=outputs)\n",
        "\n",
        "model_mlp.compile(optimizer=keras.optimizers.Adam(learning_rate=0.001),\n",
        "                  loss=\"binary_crossentropy\",\n",
        "                  metrics=[\"binary_accuracy\"])\n",
        "\n",
        "# Train the model\n",
        "model_mlp.fit(x_train, labels_train, batch_size=32, shuffle=True, epochs=10, validation_data=(x_valid, labels_valid))\n"
      ],
      "metadata": {
        "colab": {
          "base_uri": "https://localhost:8080/"
        },
        "id": "wTH4MJfWdJru",
        "outputId": "1a7fe4e8-ee1c-4ba9-af40-8cb8657d774d"
      },
      "execution_count": null,
      "outputs": [
        {
          "output_type": "stream",
          "name": "stdout",
          "text": [
            "Epoch 1/10\n",
            "\u001b[1m5/5\u001b[0m \u001b[32m━━━━━━━━━━━━━━━━━━━━\u001b[0m\u001b[37m\u001b[0m \u001b[1m3s\u001b[0m 397ms/step - binary_accuracy: 0.4397 - loss: 9397.9375 - val_binary_accuracy: 0.3000 - val_loss: 4282.7158\n",
            "Epoch 2/10\n",
            "\u001b[1m5/5\u001b[0m \u001b[32m━━━━━━━━━━━━━━━━━━━━\u001b[0m\u001b[37m\u001b[0m \u001b[1m2s\u001b[0m 406ms/step - binary_accuracy: 0.5182 - loss: 2082.0259 - val_binary_accuracy: 0.7000 - val_loss: 405.0888\n",
            "Epoch 3/10\n",
            "\u001b[1m5/5\u001b[0m \u001b[32m━━━━━━━━━━━━━━━━━━━━\u001b[0m\u001b[37m\u001b[0m \u001b[1m3s\u001b[0m 600ms/step - binary_accuracy: 0.4889 - loss: 648.6335 - val_binary_accuracy: 0.3000 - val_loss: 390.8800\n",
            "Epoch 4/10\n",
            "\u001b[1m5/5\u001b[0m \u001b[32m━━━━━━━━━━━━━━━━━━━━\u001b[0m\u001b[37m\u001b[0m \u001b[1m4s\u001b[0m 354ms/step - binary_accuracy: 0.5406 - loss: 182.4681 - val_binary_accuracy: 0.7000 - val_loss: 157.1762\n",
            "Epoch 5/10\n",
            "\u001b[1m5/5\u001b[0m \u001b[32m━━━━━━━━━━━━━━━━━━━━\u001b[0m\u001b[37m\u001b[0m \u001b[1m2s\u001b[0m 347ms/step - binary_accuracy: 0.4128 - loss: 246.5618 - val_binary_accuracy: 0.3000 - val_loss: 106.8407\n",
            "Epoch 6/10\n",
            "\u001b[1m5/5\u001b[0m \u001b[32m━━━━━━━━━━━━━━━━━━━━\u001b[0m\u001b[37m\u001b[0m \u001b[1m2s\u001b[0m 343ms/step - binary_accuracy: 0.5991 - loss: 151.8406 - val_binary_accuracy: 0.5000 - val_loss: 38.8045\n",
            "Epoch 7/10\n",
            "\u001b[1m5/5\u001b[0m \u001b[32m━━━━━━━━━━━━━━━━━━━━\u001b[0m\u001b[37m\u001b[0m \u001b[1m2s\u001b[0m 355ms/step - binary_accuracy: 0.5733 - loss: 140.1269 - val_binary_accuracy: 0.6000 - val_loss: 29.6150\n",
            "Epoch 8/10\n",
            "\u001b[1m5/5\u001b[0m \u001b[32m━━━━━━━━━━━━━━━━━━━━\u001b[0m\u001b[37m\u001b[0m \u001b[1m2s\u001b[0m 393ms/step - binary_accuracy: 0.5619 - loss: 108.9130 - val_binary_accuracy: 0.3000 - val_loss: 319.4222\n",
            "Epoch 9/10\n",
            "\u001b[1m5/5\u001b[0m \u001b[32m━━━━━━━━━━━━━━━━━━━━\u001b[0m\u001b[37m\u001b[0m \u001b[1m3s\u001b[0m 584ms/step - binary_accuracy: 0.5191 - loss: 131.6391 - val_binary_accuracy: 0.7000 - val_loss: 105.6159\n",
            "Epoch 10/10\n",
            "\u001b[1m5/5\u001b[0m \u001b[32m━━━━━━━━━━━━━━━━━━━━\u001b[0m\u001b[37m\u001b[0m \u001b[1m2s\u001b[0m 344ms/step - binary_accuracy: 0.5587 - loss: 105.9969 - val_binary_accuracy: 0.4000 - val_loss: 81.7110\n"
          ]
        },
        {
          "output_type": "execute_result",
          "data": {
            "text/plain": [
              "<keras.src.callbacks.history.History at 0x795ca4b2c2b0>"
            ]
          },
          "metadata": {},
          "execution_count": 47
        }
      ]
    },
    {
      "cell_type": "code",
      "source": [
        "# Single CNN\n",
        "inputs = keras.Input(shape=(IMG_SIZE[1], IMG_SIZE[0], 3), name='ani_image')\n",
        "x = layers.Conv2D(32, kernel_size=3, activation='relu')(inputs)\n",
        "x = layers.MaxPooling2D(pool_size=(2, 2))(x)\n",
        "x = layers.Flatten(name='flattened_features')(x)\n",
        "x = layers.Dense(128, activation='relu', name='first_layer')(x)\n",
        "outputs = layers.Dense(1, activation='sigmoid', name='class')(x)\n",
        "\n",
        "model_single_conv = keras.Model(inputs=inputs, outputs=outputs)\n",
        "\n",
        "model_single_conv.compile(optimizer=keras.optimizers.Adam(learning_rate=1e-6),\n",
        "                          loss=\"binary_crossentropy\",\n",
        "                          metrics=[\"binary_accuracy\"])\n",
        "\n",
        "# Train the model\n",
        "model_single_conv.fit(x_train, labels_train, batch_size=32, shuffle=True, epochs=10, validation_data=(x_valid, labels_valid))\n"
      ],
      "metadata": {
        "colab": {
          "base_uri": "https://localhost:8080/"
        },
        "id": "wYj02NCHdOgY",
        "outputId": "fd68f00a-32f6-452c-dacb-4e4d4b0e40e3"
      },
      "execution_count": null,
      "outputs": [
        {
          "output_type": "stream",
          "name": "stdout",
          "text": [
            "Epoch 1/10\n",
            "\u001b[1m5/5\u001b[0m \u001b[32m━━━━━━━━━━━━━━━━━━━━\u001b[0m\u001b[37m\u001b[0m \u001b[1m4s\u001b[0m 469ms/step - binary_accuracy: 0.5109 - loss: 20.9501 - val_binary_accuracy: 0.6000 - val_loss: 8.4623\n",
            "Epoch 2/10\n",
            "\u001b[1m5/5\u001b[0m \u001b[32m━━━━━━━━━━━━━━━━━━━━\u001b[0m\u001b[37m\u001b[0m \u001b[1m2s\u001b[0m 376ms/step - binary_accuracy: 0.4915 - loss: 11.0799 - val_binary_accuracy: 0.3000 - val_loss: 15.9391\n",
            "Epoch 3/10\n",
            "\u001b[1m5/5\u001b[0m \u001b[32m━━━━━━━━━━━━━━━━━━━━\u001b[0m\u001b[37m\u001b[0m \u001b[1m3s\u001b[0m 534ms/step - binary_accuracy: 0.4911 - loss: 12.8387 - val_binary_accuracy: 0.6000 - val_loss: 7.5766\n",
            "Epoch 4/10\n",
            "\u001b[1m5/5\u001b[0m \u001b[32m━━━━━━━━━━━━━━━━━━━━\u001b[0m\u001b[37m\u001b[0m \u001b[1m5s\u001b[0m 412ms/step - binary_accuracy: 0.5093 - loss: 7.9611 - val_binary_accuracy: 0.7000 - val_loss: 7.8069\n",
            "Epoch 5/10\n",
            "\u001b[1m5/5\u001b[0m \u001b[32m━━━━━━━━━━━━━━━━━━━━\u001b[0m\u001b[37m\u001b[0m \u001b[1m2s\u001b[0m 401ms/step - binary_accuracy: 0.5069 - loss: 8.3284 - val_binary_accuracy: 0.6000 - val_loss: 6.7550\n",
            "Epoch 6/10\n",
            "\u001b[1m5/5\u001b[0m \u001b[32m━━━━━━━━━━━━━━━━━━━━\u001b[0m\u001b[37m\u001b[0m \u001b[1m2s\u001b[0m 398ms/step - binary_accuracy: 0.4867 - loss: 7.4907 - val_binary_accuracy: 0.4000 - val_loss: 9.0960\n",
            "Epoch 7/10\n",
            "\u001b[1m5/5\u001b[0m \u001b[32m━━━━━━━━━━━━━━━━━━━━\u001b[0m\u001b[37m\u001b[0m \u001b[1m2s\u001b[0m 399ms/step - binary_accuracy: 0.5251 - loss: 6.8258 - val_binary_accuracy: 0.4000 - val_loss: 7.0543\n",
            "Epoch 8/10\n",
            "\u001b[1m5/5\u001b[0m \u001b[32m━━━━━━━━━━━━━━━━━━━━\u001b[0m\u001b[37m\u001b[0m \u001b[1m3s\u001b[0m 696ms/step - binary_accuracy: 0.4989 - loss: 6.1363 - val_binary_accuracy: 0.7000 - val_loss: 6.4660\n",
            "Epoch 9/10\n",
            "\u001b[1m5/5\u001b[0m \u001b[32m━━━━━━━━━━━━━━━━━━━━\u001b[0m\u001b[37m\u001b[0m \u001b[1m4s\u001b[0m 418ms/step - binary_accuracy: 0.5528 - loss: 6.1403 - val_binary_accuracy: 0.5000 - val_loss: 6.2051\n",
            "Epoch 10/10\n",
            "\u001b[1m5/5\u001b[0m \u001b[32m━━━━━━━━━━━━━━━━━━━━\u001b[0m\u001b[37m\u001b[0m \u001b[1m2s\u001b[0m 392ms/step - binary_accuracy: 0.5979 - loss: 4.1919 - val_binary_accuracy: 0.4000 - val_loss: 6.7856\n"
          ]
        },
        {
          "output_type": "execute_result",
          "data": {
            "text/plain": [
              "<keras.src.callbacks.history.History at 0x795c97512a70>"
            ]
          },
          "metadata": {},
          "execution_count": 48
        }
      ]
    },
    {
      "cell_type": "code",
      "source": [
        "# Bigger CN\n",
        "inputs = keras.Input(shape=(IMG_SIZE[1], IMG_SIZE[0], 3), name='ani_image')\n",
        "x = layers.Conv2D(48, kernel_size=3, activation='relu')(inputs)\n",
        "x = layers.MaxPooling2D(pool_size=(2, 2))(x)\n",
        "x = layers.Conv2D(48, kernel_size=3, activation='relu')(x)\n",
        "x = layers.MaxPooling2D(pool_size=(2, 2))(x)\n",
        "x = layers.Flatten(name='flattened_features')(x)\n",
        "x = layers.Dense(256, activation='relu', name='first_layer')(x)\n",
        "x = layers.Dense(256, activation='relu', name='second_layer')(x)\n",
        "outputs = layers.Dense(1, activation='sigmoid', name='class')(x)\n",
        "\n",
        "model_bigger = keras.Model(inputs=inputs, outputs=outputs)\n",
        "\n",
        "model_bigger.compile(optimizer=keras.optimizers.Adam(learning_rate=1e-6),\n",
        "                     loss=\"binary_crossentropy\",\n",
        "                     metrics=[\"binary_accuracy\"])\n",
        "\n",
        "# Train the model\n",
        "model_bigger.fit(x_train, labels_train, batch_size=64, shuffle=True, epochs=15, validation_data=(x_valid, labels_valid))\n"
      ],
      "metadata": {
        "colab": {
          "base_uri": "https://localhost:8080/"
        },
        "id": "wawLeCDwdaBU",
        "outputId": "63dc5cad-f9b0-450a-ea1c-b21e1985c20a"
      },
      "execution_count": null,
      "outputs": [
        {
          "output_type": "stream",
          "name": "stdout",
          "text": [
            "Epoch 1/15\n",
            "\u001b[1m3/3\u001b[0m \u001b[32m━━━━━━━━━━━━━━━━━━━━\u001b[0m\u001b[37m\u001b[0m \u001b[1m6s\u001b[0m 1s/step - binary_accuracy: 0.5195 - loss: 15.0025 - val_binary_accuracy: 0.3000 - val_loss: 15.6667\n",
            "Epoch 2/15\n",
            "\u001b[1m3/3\u001b[0m \u001b[32m━━━━━━━━━━━━━━━━━━━━\u001b[0m\u001b[37m\u001b[0m \u001b[1m4s\u001b[0m 792ms/step - binary_accuracy: 0.4945 - loss: 11.0963 - val_binary_accuracy: 0.3000 - val_loss: 10.2762\n",
            "Epoch 3/15\n",
            "\u001b[1m3/3\u001b[0m \u001b[32m━━━━━━━━━━━━━━━━━━━━\u001b[0m\u001b[37m\u001b[0m \u001b[1m5s\u001b[0m 852ms/step - binary_accuracy: 0.4730 - loss: 7.4929 - val_binary_accuracy: 0.4000 - val_loss: 6.2074\n",
            "Epoch 4/15\n",
            "\u001b[1m3/3\u001b[0m \u001b[32m━━━━━━━━━━━━━━━━━━━━\u001b[0m\u001b[37m\u001b[0m \u001b[1m7s\u001b[0m 1s/step - binary_accuracy: 0.4789 - loss: 4.6985 - val_binary_accuracy: 0.4000 - val_loss: 4.7302\n",
            "Epoch 5/15\n",
            "\u001b[1m3/3\u001b[0m \u001b[32m━━━━━━━━━━━━━━━━━━━━\u001b[0m\u001b[37m\u001b[0m \u001b[1m3s\u001b[0m 829ms/step - binary_accuracy: 0.5297 - loss: 3.4669 - val_binary_accuracy: 0.6000 - val_loss: 4.8978\n",
            "Epoch 6/15\n",
            "\u001b[1m3/3\u001b[0m \u001b[32m━━━━━━━━━━━━━━━━━━━━\u001b[0m\u001b[37m\u001b[0m \u001b[1m5s\u001b[0m 786ms/step - binary_accuracy: 0.5504 - loss: 3.7066 - val_binary_accuracy: 0.6000 - val_loss: 4.9965\n",
            "Epoch 7/15\n",
            "\u001b[1m3/3\u001b[0m \u001b[32m━━━━━━━━━━━━━━━━━━━━\u001b[0m\u001b[37m\u001b[0m \u001b[1m4s\u001b[0m 1s/step - binary_accuracy: 0.5579 - loss: 3.9255 - val_binary_accuracy: 0.6000 - val_loss: 4.7656\n",
            "Epoch 8/15\n",
            "\u001b[1m3/3\u001b[0m \u001b[32m━━━━━━━━━━━━━━━━━━━━\u001b[0m\u001b[37m\u001b[0m \u001b[1m4s\u001b[0m 808ms/step - binary_accuracy: 0.5497 - loss: 3.3675 - val_binary_accuracy: 0.5000 - val_loss: 4.4263\n",
            "Epoch 9/15\n",
            "\u001b[1m3/3\u001b[0m \u001b[32m━━━━━━━━━━━━━━━━━━━━\u001b[0m\u001b[37m\u001b[0m \u001b[1m5s\u001b[0m 824ms/step - binary_accuracy: 0.5426 - loss: 2.7505 - val_binary_accuracy: 0.4000 - val_loss: 4.4712\n",
            "Epoch 10/15\n",
            "\u001b[1m3/3\u001b[0m \u001b[32m━━━━━━━━━━━━━━━━━━━━\u001b[0m\u001b[37m\u001b[0m \u001b[1m4s\u001b[0m 1s/step - binary_accuracy: 0.5567 - loss: 2.7157 - val_binary_accuracy: 0.4000 - val_loss: 4.5566\n",
            "Epoch 11/15\n",
            "\u001b[1m3/3\u001b[0m \u001b[32m━━━━━━━━━━━━━━━━━━━━\u001b[0m\u001b[37m\u001b[0m \u001b[1m4s\u001b[0m 859ms/step - binary_accuracy: 0.5493 - loss: 2.7664 - val_binary_accuracy: 0.4000 - val_loss: 4.3963\n",
            "Epoch 12/15\n",
            "\u001b[1m3/3\u001b[0m \u001b[32m━━━━━━━━━━━━━━━━━━━━\u001b[0m\u001b[37m\u001b[0m \u001b[1m3s\u001b[0m 845ms/step - binary_accuracy: 0.5926 - loss: 2.6598 - val_binary_accuracy: 0.4000 - val_loss: 4.0838\n",
            "Epoch 13/15\n",
            "\u001b[1m3/3\u001b[0m \u001b[32m━━━━━━━━━━━━━━━━━━━━\u001b[0m\u001b[37m\u001b[0m \u001b[1m3s\u001b[0m 853ms/step - binary_accuracy: 0.6067 - loss: 1.9711 - val_binary_accuracy: 0.6000 - val_loss: 3.9576\n",
            "Epoch 14/15\n",
            "\u001b[1m3/3\u001b[0m \u001b[32m━━━━━━━━━━━━━━━━━━━━\u001b[0m\u001b[37m\u001b[0m \u001b[1m5s\u001b[0m 871ms/step - binary_accuracy: 0.6032 - loss: 2.2072 - val_binary_accuracy: 0.6000 - val_loss: 4.0159\n",
            "Epoch 15/15\n",
            "\u001b[1m3/3\u001b[0m \u001b[32m━━━━━━━━━━━━━━━━━━━━\u001b[0m\u001b[37m\u001b[0m \u001b[1m3s\u001b[0m 815ms/step - binary_accuracy: 0.5989 - loss: 2.2369 - val_binary_accuracy: 0.6000 - val_loss: 3.9064\n"
          ]
        },
        {
          "output_type": "execute_result",
          "data": {
            "text/plain": [
              "<keras.src.callbacks.history.History at 0x795c973e1120>"
            ]
          },
          "metadata": {},
          "execution_count": 49
        }
      ]
    },
    {
      "cell_type": "code",
      "source": [
        "# Huge Model\n",
        "# Define an even larger convolutional model\n",
        "inputs = keras.Input(shape=(IMG_SIZE[1], IMG_SIZE[0], 3), name='ani_image')\n",
        "x = layers.Conv2D(128, kernel_size=3, activation='relu')(inputs)\n",
        "x = layers.MaxPooling2D(pool_size=(2, 2))(x)\n",
        "x = layers.Conv2D(128, kernel_size=3, activation='relu')(x)\n",
        "x = layers.MaxPooling2D(pool_size=(2, 2))(x)\n",
        "x = layers.Flatten(name='flattened_features')(x)\n",
        "x = layers.Dense(256, activation='relu', name='first_layer')(x)\n",
        "x = layers.Dense(256, activation='relu', name='second_layer')(x)\n",
        "outputs = layers.Dense(1, activation='sigmoid', name='class')(x)\n",
        "\n",
        "model_huge = keras.Model(inputs=inputs, outputs=outputs)\n",
        "\n",
        "model_huge.compile(optimizer=keras.optimizers.Adam(learning_rate=1e-6),\n",
        "                   loss=\"binary_crossentropy\",\n",
        "                   metrics=[\"binary_accuracy\"])\n",
        "\n",
        "# Train the model\n",
        "model_huge.fit(x_train, labels_train, batch_size=64, shuffle=True, epochs=5, validation_data=(x_valid, labels_valid))\n"
      ],
      "metadata": {
        "colab": {
          "base_uri": "https://localhost:8080/"
        },
        "id": "20FVRf39dyaZ",
        "outputId": "ef04a037-0765-48e9-d64a-b973be559963"
      },
      "execution_count": null,
      "outputs": [
        {
          "output_type": "stream",
          "name": "stdout",
          "text": [
            "Epoch 1/5\n",
            "\u001b[1m3/3\u001b[0m \u001b[32m━━━━━━━━━━━━━━━━━━━━\u001b[0m\u001b[37m\u001b[0m \u001b[1m15s\u001b[0m 3s/step - binary_accuracy: 0.5633 - loss: 2.2798 - val_binary_accuracy: 0.5000 - val_loss: 2.8482\n",
            "Epoch 2/5\n",
            "\u001b[1m3/3\u001b[0m \u001b[32m━━━━━━━━━━━━━━━━━━━━\u001b[0m\u001b[37m\u001b[0m \u001b[1m13s\u001b[0m 3s/step - binary_accuracy: 0.5739 - loss: 1.9660 - val_binary_accuracy: 0.4000 - val_loss: 3.0234\n",
            "Epoch 3/5\n",
            "\u001b[1m3/3\u001b[0m \u001b[32m━━━━━━━━━━━━━━━━━━━━\u001b[0m\u001b[37m\u001b[0m \u001b[1m20s\u001b[0m 4s/step - binary_accuracy: 0.5794 - loss: 1.6111 - val_binary_accuracy: 0.4000 - val_loss: 2.5480\n",
            "Epoch 4/5\n",
            "\u001b[1m3/3\u001b[0m \u001b[32m━━━━━━━━━━━━━━━━━━━━\u001b[0m\u001b[37m\u001b[0m \u001b[1m20s\u001b[0m 3s/step - binary_accuracy: 0.5579 - loss: 1.5657 - val_binary_accuracy: 0.4000 - val_loss: 2.6262\n",
            "Epoch 5/5\n",
            "\u001b[1m3/3\u001b[0m \u001b[32m━━━━━━━━━━━━━━━━━━━━\u001b[0m\u001b[37m\u001b[0m \u001b[1m12s\u001b[0m 3s/step - binary_accuracy: 0.6572 - loss: 1.1930 - val_binary_accuracy: 0.4000 - val_loss: 3.1043\n"
          ]
        },
        {
          "output_type": "execute_result",
          "data": {
            "text/plain": [
              "<keras.src.callbacks.history.History at 0x795c96a78d90>"
            ]
          },
          "metadata": {},
          "execution_count": 50
        }
      ]
    },
    {
      "cell_type": "markdown",
      "source": [
        "**CONFUSION MATRIX**"
      ],
      "metadata": {
        "id": "UpVsij2DqRE9"
      }
    },
    {
      "cell_type": "code",
      "source": [
        "from sklearn.metrics import confusion_matrix\n",
        "import matplotlib.pyplot as plt\n",
        "import seaborn as sns\n",
        "\n",
        "# Helper function to evaluate the model\n",
        "def evaluate_model(model, x_valid, labels_valid, model_name=\"Model\"):\n",
        "    # Predict probabilities\n",
        "    preds = model.predict(x_valid)\n",
        "    binary_preds = (preds > 0.5).astype(int)\n",
        "\n",
        "    # Calculate the confusion matrix\n",
        "    cm = confusion_matrix(labels_valid, binary_preds)\n",
        "    print(f\"Confusion Matrix for {model_name}:\")\n",
        "    sns.heatmap(cm, annot=True, fmt='d', cmap='Blues')\n",
        "    plt.xlabel('Predicted')\n",
        "    plt.ylabel('True')\n",
        "    plt.title(f'Confusion Matrix for {model_name}')\n",
        "    plt.show()\n",
        "\n",
        "    # Analyze predictions\n",
        "    print(f\"Mean predicted probability for dogs ({model_name}):\", preds[labels_valid == 0].mean())\n",
        "    print(f\"Mean predicted probability for cats ({model_name}):\", preds[labels_valid == 1].mean())\n",
        "\n",
        "# Evaluate each model\n",
        "evaluate_model(model_mlp, x_valid, labels_valid, \"Run of the Mill MLP\")\n",
        "evaluate_model(model_single_conv, x_valid, labels_valid, \"Single Convolutional Layer\")\n",
        "evaluate_model(model_bigger, x_valid, labels_valid, \"Bigger Convolutional Model\")\n",
        "evaluate_model(model_huge, x_valid, labels_valid, \"Huge Model\")\n"
      ],
      "metadata": {
        "colab": {
          "base_uri": "https://localhost:8080/",
          "height": 1000
        },
        "id": "4_cl_jReqMax",
        "outputId": "60d01ee0-5c65-4b64-cb52-a3bb482b5dc1"
      },
      "execution_count": null,
      "outputs": [
        {
          "output_type": "stream",
          "name": "stdout",
          "text": [
            "\u001b[1m1/1\u001b[0m \u001b[32m━━━━━━━━━━━━━━━━━━━━\u001b[0m\u001b[37m\u001b[0m \u001b[1m0s\u001b[0m 85ms/step\n",
            "Confusion Matrix for Run of the Mill MLP:\n"
          ]
        },
        {
          "output_type": "display_data",
          "data": {
            "text/plain": [
              "<Figure size 640x480 with 2 Axes>"
            ],
            "image/png": "[encoded data removed]"
          },
          "metadata": {}
        },
        {
          "output_type": "stream",
          "name": "stdout",
          "text": [
            "Mean predicted probability for dogs (Run of the Mill MLP): 0.7359156\n",
            "Mean predicted probability for cats (Run of the Mill MLP): 0.7171364\n",
            "\u001b[1m1/1\u001b[0m \u001b[32m━━━━━━━━━━━━━━━━━━━━\u001b[0m\u001b[37m\u001b[0m \u001b[1m0s\u001b[0m 136ms/step\n",
            "Confusion Matrix for Single Convolutional Layer:\n"
          ]
        },
        {
          "output_type": "display_data",
          "data": {
            "text/plain": [
              "<Figure size 640x480 with 2 Axes>"
            ],
            "image/png": "[encoded data removed]"
          },
          "metadata": {}
        },
        {
          "output_type": "stream",
          "name": "stdout",
          "text": [
            "Mean predicted probability for dogs (Single Convolutional Layer): 0.62896556\n",
            "Mean predicted probability for cats (Single Convolutional Layer): 0.48445514\n",
            "\u001b[1m1/1\u001b[0m \u001b[32m━━━━━━━━━━━━━━━━━━━━\u001b[0m\u001b[37m\u001b[0m \u001b[1m0s\u001b[0m 192ms/step\n",
            "Confusion Matrix for Bigger Convolutional Model:\n"
          ]
        },
        {
          "output_type": "display_data",
          "data": {
            "text/plain": [
              "<Figure size 640x480 with 2 Axes>"
            ],
            "image/png": "[encoded data removed]"
          },
          "metadata": {}
        },
        {
          "output_type": "stream",
          "name": "stdout",
          "text": [
            "Mean predicted probability for dogs (Bigger Convolutional Model): 0.23010874\n",
            "Mean predicted probability for cats (Bigger Convolutional Model): 0.16693902\n",
            "\u001b[1m1/1\u001b[0m \u001b[32m━━━━━━━━━━━━━━━━━━━━\u001b[0m\u001b[37m\u001b[0m \u001b[1m0s\u001b[0m 495ms/step\n",
            "Confusion Matrix for Huge Model:\n"
          ]
        },
        {
          "output_type": "display_data",
          "data": {
            "text/plain": [
              "<Figure size 640x480 with 2 Axes>"
            ],
            "image/png": "[encoded data removed]"
          },
          "metadata": {}
        },
        {
          "output_type": "stream",
          "name": "stdout",
          "text": [
            "Mean predicted probability for dogs (Huge Model): 0.61607116\n",
            "Mean predicted probability for cats (Huge Model): 0.427151\n"
          ]
        }
      ]
    }
  ]
}