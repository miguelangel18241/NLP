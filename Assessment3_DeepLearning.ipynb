{
  "nbformat": 4,
  "nbformat_minor": 0,
  "metadata": {
    "colab": {
      "provenance": [],
      "authorship_tag": "ABX9TyNvcWD3lrMrn1KaQq7AA515",
      "include_colab_link": true
    },
    "kernelspec": {
      "name": "python3",
      "display_name": "Python 3"
    },
    "language_info": {
      "name": "python"
    }
  },
  "cells": [
    {
      "cell_type": "markdown",
      "metadata": {
        "id": "view-in-github",
        "colab_type": "text"
      },
      "source": [
        "<a href=\"https://colab.research.google.com/github/miguelangel18241/NLP/blob/main/Assessment3_DeepLearning.ipynb\" target=\"_parent\"><img src=\"https://colab.research.google.com/assets/colab-badge.svg\" alt=\"Open In Colab\"/></a>"
      ]
    },
    {
      "cell_type": "markdown",
      "source": [
        "**<h1>Jonas' part**"
      ],
      "metadata": {
        "id": "y3c0zJDxmwmx"
      }
    },
    {
      "cell_type": "code",
      "execution_count": null,
      "metadata": {
        "id": "2dKvhgO1lwfb"
      },
      "outputs": [],
      "source": [
        "## JONAS' CODE HERE"
      ]
    },
    {
      "cell_type": "markdown",
      "source": [
        "**<h1>Miguel's part**"
      ],
      "metadata": {
        "id": "rvLpYuyBm-Dv"
      }
    },
    {
      "cell_type": "code",
      "source": [
        "## MIGUEL's CODE HERE"
      ],
      "metadata": {
        "id": "CLcjAzR2nCWl"
      },
      "execution_count": null,
      "outputs": []
    }
  ]
}