{
  "nbformat": 4,
  "nbformat_minor": 0,
  "metadata": {
    "colab": {
      "provenance": [],
      "authorship_tag": "ABX9TyM+oONlB7hCEAbKF8ntLg1H",
      "include_colab_link": true
    },
    "kernelspec": {
      "name": "python3",
      "display_name": "Python 3"
    },
    "language_info": {
      "name": "python"
    }
  },
  "cells": [
    {
      "cell_type": "markdown",
      "metadata": {
        "id": "view-in-github",
        "colab_type": "text"
      },
      "source": [
        "<a href=\"https://colab.research.google.com/github/miguelangel18241/NLP/blob/main/DistilBERT.ipynb\" target=\"_parent\"><img src=\"https://colab.research.google.com/assets/colab-badge.svg\" alt=\"Open In Colab\"/></a>"
      ]
    },
    {
      "cell_type": "code",
      "execution_count": 1,
      "metadata": {
        "colab": {
          "base_uri": "https://localhost:8080/"
        },
        "id": "DZxBRp41b1kE",
        "outputId": "e5f8fc4b-14a1-494c-c729-fc1c5423965b"
      },
      "outputs": [
        {
          "output_type": "stream",
          "name": "stdout",
          "text": [
            "Requirement already satisfied: transformers in /usr/local/lib/python3.10/dist-packages (4.41.2)\n",
            "Requirement already satisfied: filelock in /usr/local/lib/python3.10/dist-packages (from transformers) (3.15.4)\n",
            "Requirement already satisfied: huggingface-hub<1.0,>=0.23.0 in /usr/local/lib/python3.10/dist-packages (from transformers) (0.23.4)\n",
            "Requirement already satisfied: numpy>=1.17 in /usr/local/lib/python3.10/dist-packages (from transformers) (1.25.2)\n",
            "Requirement already satisfied: packaging>=20.0 in /usr/local/lib/python3.10/dist-packages (from transformers) (24.1)\n",
            "Requirement already satisfied: pyyaml>=5.1 in /usr/local/lib/python3.10/dist-packages (from transformers) (6.0.1)\n",
            "Requirement already satisfied: regex!=2019.12.17 in /usr/local/lib/python3.10/dist-packages (from transformers) (2024.5.15)\n",
            "Requirement already satisfied: requests in /usr/local/lib/python3.10/dist-packages (from transformers) (2.31.0)\n",
            "Requirement already satisfied: tokenizers<0.20,>=0.19 in /usr/local/lib/python3.10/dist-packages (from transformers) (0.19.1)\n",
            "Requirement already satisfied: safetensors>=0.4.1 in /usr/local/lib/python3.10/dist-packages (from transformers) (0.4.3)\n",
            "Requirement already satisfied: tqdm>=4.27 in /usr/local/lib/python3.10/dist-packages (from transformers) (4.66.4)\n",
            "Requirement already satisfied: fsspec>=2023.5.0 in /usr/local/lib/python3.10/dist-packages (from huggingface-hub<1.0,>=0.23.0->transformers) (2023.6.0)\n",
            "Requirement already satisfied: typing-extensions>=3.7.4.3 in /usr/local/lib/python3.10/dist-packages (from huggingface-hub<1.0,>=0.23.0->transformers) (4.12.2)\n",
            "Requirement already satisfied: charset-normalizer<4,>=2 in /usr/local/lib/python3.10/dist-packages (from requests->transformers) (3.3.2)\n",
            "Requirement already satisfied: idna<4,>=2.5 in /usr/local/lib/python3.10/dist-packages (from requests->transformers) (3.7)\n",
            "Requirement already satisfied: urllib3<3,>=1.21.1 in /usr/local/lib/python3.10/dist-packages (from requests->transformers) (2.0.7)\n",
            "Requirement already satisfied: certifi>=2017.4.17 in /usr/local/lib/python3.10/dist-packages (from requests->transformers) (2024.6.2)\n"
          ]
        }
      ],
      "source": [
        "!pip install transformers\n"
      ]
    },
    {
      "cell_type": "code",
      "source": [
        "from transformers import pipeline\n",
        "\n"
      ],
      "metadata": {
        "id": "BnAVApFXgq31"
      },
      "execution_count": 2,
      "outputs": []
    },
    {
      "cell_type": "code",
      "source": [
        "## Create a pipeline for fill-mask task with DistilBERT model\n",
        "unmasker = pipeline('fill-mask', model='distilbert-base-uncased')"
      ],
      "metadata": {
        "id": "EOYxiMvLg3S5"
      },
      "execution_count": 4,
      "outputs": []
    },
    {
      "cell_type": "code",
      "source": [
        "## Perform masked language modeling\n",
        "result = unmasker(\"Hello I'm [MASK] model\")"
      ],
      "metadata": {
        "id": "bWon2OpjhCpQ"
      },
      "execution_count": 5,
      "outputs": []
    },
    {
      "cell_type": "code",
      "source": [
        "print(result)"
      ],
      "metadata": {
        "colab": {
          "base_uri": "https://localhost:8080/"
        },
        "id": "marJftLAhUwA",
        "outputId": "0f90e141-c24a-4492-c89e-88f8c1a8039f"
      },
      "execution_count": 6,
      "outputs": [
        {
          "output_type": "stream",
          "name": "stdout",
          "text": [
            "[{'score': 0.09484544396400452, 'token': 2026, 'token_str': 'my', 'sequence': \"hello i'm my model\"}, {'score': 0.09461958706378937, 'token': 2115, 'token_str': 'your', 'sequence': \"hello i'm your model\"}, {'score': 0.06731895357370377, 'token': 1037, 'token_str': 'a', 'sequence': \"hello i'm a model\"}, {'score': 0.05952874943614006, 'token': 1996, 'token_str': 'the', 'sequence': \"hello i'm the model\"}, {'score': 0.01111823134124279, 'token': 7592, 'token_str': 'hello', 'sequence': \"hello i'm hello model\"}]\n"
          ]
        }
      ]
    },
    {
      "cell_type": "code",
      "source": [
        "for prediction in result:\n",
        "  print(f\"Sequence: {prediction['sequence']}\")\n",
        "  print(f\"Score: {round(prediction['score'], 4)}\")\n",
        "  print(f\"Token: {prediction['token']}\")\n",
        "  print(f\"Token String: {prediction['token_str']}\")\n",
        "  print()\n"
      ],
      "metadata": {
        "colab": {
          "base_uri": "https://localhost:8080/"
        },
        "id": "nco2ujiooIRB",
        "outputId": "bfcd981c-b242-41db-86bd-780b091061e8"
      },
      "execution_count": 13,
      "outputs": [
        {
          "output_type": "stream",
          "name": "stdout",
          "text": [
            "Sequence: hello i'm my model\n",
            "Score: 0.0948\n",
            "Token: 2026\n",
            "Token String: my\n",
            "\n",
            "Sequence: hello i'm your model\n",
            "Score: 0.0946\n",
            "Token: 2115\n",
            "Token String: your\n",
            "\n",
            "Sequence: hello i'm a model\n",
            "Score: 0.0673\n",
            "Token: 1037\n",
            "Token String: a\n",
            "\n",
            "Sequence: hello i'm the model\n",
            "Score: 0.0595\n",
            "Token: 1996\n",
            "Token String: the\n",
            "\n",
            "Sequence: hello i'm hello model\n",
            "Score: 0.0111\n",
            "Token: 7592\n",
            "Token String: hello\n",
            "\n"
          ]
        }
      ]
    },
    {
      "cell_type": "code",
      "source": [
        "list_of_scores = [(round(prediction['score'], 4)) for prediction in result]\n",
        "sorted_scores = sorted(list_of_scores, reverse=True)\n",
        "\n",
        "for score in sorted_scores:\n",
        "  print(score)"
      ],
      "metadata": {
        "colab": {
          "base_uri": "https://localhost:8080/"
        },
        "id": "9cbO9nXroU8O",
        "outputId": "9918e0b3-1bee-4784-b2cf-e3baa18922ed"
      },
      "execution_count": 23,
      "outputs": [
        {
          "output_type": "stream",
          "name": "stdout",
          "text": [
            "0.0948\n",
            "0.0946\n",
            "0.0673\n",
            "0.0595\n",
            "0.0111\n"
          ]
        }
      ]
    },
    {
      "cell_type": "code",
      "source": [
        "## When making a dictionary, I first need to decide what do I need to put in every index of the dictionary with for Loop\n",
        "## Which means, create the variables that will be in that dictionary\n",
        "## Then, pair them\n",
        "\n",
        "sorted_pairs = {}\n",
        "\n",
        "for prediction in result:\n",
        "  score = (round(prediction['score'],4))\n",
        "  token_str = prediction['token_str']\n",
        "\n",
        "  #pair them\n",
        "  sorted_pairs[score] = token_str\n",
        "\n",
        "sorted_pairs = dict(sorted(sorted_pairs.items(), key=lambda item: item[0], reverse=True))\n",
        "\n",
        "for score, token_str in sorted_pairs.items():\n",
        "  print(f\"Score: {score}, Token String: {token_str} \")\n"
      ],
      "metadata": {
        "colab": {
          "base_uri": "https://localhost:8080/"
        },
        "id": "cH5vZiCusORh",
        "outputId": "d3e2f29a-7163-4d77-d72f-c626ae48366e"
      },
      "execution_count": 31,
      "outputs": [
        {
          "output_type": "stream",
          "name": "stdout",
          "text": [
            "Score: 0.0948, Token String: my \n",
            "Score: 0.0946, Token String: your \n",
            "Score: 0.0673, Token String: a \n",
            "Score: 0.0595, Token String: the \n",
            "Score: 0.0111, Token String: hello \n"
          ]
        }
      ]
    }
  ]
}